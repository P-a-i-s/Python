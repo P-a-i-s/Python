{
 "cells": [
  {
   "cell_type": "markdown",
   "metadata": {},
   "source": [
    "### CONDITIONAL STATEMENTS\n",
    "\n",
    "The boolean expression in a conditional statement that determines which branch is executed. A statement that controls the flow of execution depending on some condition. In Python the keywords if , elif , and else are used for conditional statements.\n",
    "\n",
    "### LOOPS\n",
    "Repeats a statement or group of statements while a given condition is TRUE. It tests the condition before executing the loop body. Executes a sequence of statements multiple times and abbreviates the code that manages the loop variable. You can use one or more loop inside any another while, for or do..while loop."
   ]
  },
  {
   "cell_type": "code",
   "execution_count": 7,
   "metadata": {
    "collapsed": false
   },
   "outputs": [
    {
     "name": "stdout",
     "output_type": "stream",
     "text": [
      "this number is not divisible by 5 and 7\n"
     ]
    }
   ],
   "source": [
    "#How to figure out if any number is divisible by x\n",
    "\n",
    "a=33\n",
    "\n",
    "if a%7 == 0 and a%5 == 0:\n",
    "    print 'this number is divisible or is a multiple of 5 and 7'\n",
    "else:\n",
    "    print 'this number is not divisible by 5 and 7'"
   ]
  },
  {
   "cell_type": "code",
   "execution_count": 14,
   "metadata": {
    "collapsed": false
   },
   "outputs": [
    {
     "name": "stdout",
     "output_type": "stream",
     "text": [
      "Buzz\n"
     ]
    }
   ],
   "source": [
    "a=10\n",
    "if a%3 == 0 and a%5 == 0:\n",
    " \tprint('FizzBuzz')\n",
    "elif a%3 == 0:\n",
    " \tprint('Fizz')\n",
    "elif a%5 == 0:\n",
    " \tprint('Buzz')"
   ]
  },
  {
   "cell_type": "code",
   "execution_count": 16,
   "metadata": {
    "collapsed": false
   },
   "outputs": [
    {
     "data": {
      "text/plain": [
       "int"
      ]
     },
     "execution_count": 16,
     "metadata": {},
     "output_type": "execute_result"
    }
   ],
   "source": [
    "a=5\n",
    "type(a)"
   ]
  },
  {
   "cell_type": "code",
   "execution_count": 20,
   "metadata": {
    "collapsed": false
   },
   "outputs": [
    {
     "name": "stdout",
     "output_type": "stream",
     "text": [
      "5.0\n"
     ]
    },
    {
     "data": {
      "text/plain": [
       "'5.0'"
      ]
     },
     "execution_count": 20,
     "metadata": {},
     "output_type": "execute_result"
    }
   ],
   "source": [
    "if type(a) == int:\n",
    "\ta = float(a)\n",
    "elif type(a) == float:\n",
    "\ta = str(a)\n",
    "elif type(a) == str:\n",
    "\tprint(a)\n",
    "a"
   ]
  },
  {
   "cell_type": "code",
   "execution_count": 21,
   "metadata": {
    "collapsed": false
   },
   "outputs": [
    {
     "name": "stdout",
     "output_type": "stream",
     "text": [
      "This is an even number\n"
     ]
    }
   ],
   "source": [
    "a=24\n",
    "if a%2 == 0:\n",
    "\tprint(\"This is an even number\")\n",
    "else:\n",
    "\tprint('This is an odd number')"
   ]
  },
  {
   "cell_type": "code",
   "execution_count": 25,
   "metadata": {
    "collapsed": false
   },
   "outputs": [
    {
     "name": "stdout",
     "output_type": "stream",
     "text": [
      "These are positve numbers\n"
     ]
    }
   ],
   "source": [
    "a= 6\n",
    "if a > 0:\n",
    "\tprint('These are positve numbers')\n",
    "elif a == 0:\n",
    "\tprint('This is neither positve nor negative')\n",
    "else:\n",
    "\tprint(\"these are negative numbers\")"
   ]
  },
  {
   "cell_type": "code",
   "execution_count": 28,
   "metadata": {
    "collapsed": false
   },
   "outputs": [
    {
     "name": "stdout",
     "output_type": "stream",
     "text": [
      "10\n",
      "9\n",
      "8\n",
      "7\n",
      "6\n",
      "5\n"
     ]
    }
   ],
   "source": [
    "#print from 10 to 5\n",
    "a=10\n",
    "while a >=5:\n",
    "    print a\n",
    "    a-=1"
   ]
  },
  {
   "cell_type": "code",
   "execution_count": 29,
   "metadata": {
    "collapsed": false
   },
   "outputs": [
    {
     "name": "stdout",
     "output_type": "stream",
     "text": [
      "('These are all odd numbers', 1)\n",
      "('These are all even numbers', 2)\n",
      "('These are all odd numbers', 3)\n",
      "('These are all even numbers', 4)\n",
      "('These are all odd numbers', 5)\n",
      "('These are all even numbers', 6)\n",
      "('These are all odd numbers', 7)\n",
      "('These are all even numbers', 8)\n",
      "('These are all odd numbers', 9)\n",
      "('These are all even numbers', 10)\n",
      "5\n",
      "5\n"
     ]
    }
   ],
   "source": [
    "#All the even and odd numbers from 1 - 10\n",
    "a=1\n",
    "even=0 \n",
    "odd=0\n",
    "while a<=10:\n",
    "\tif a%2 == 0:\n",
    "\t\tprint('These are all even numbers',a)\n",
    "\t\teven = even+1\n",
    "\n",
    "\telse:\n",
    "\t\tprint('These are all odd numbers',a)\n",
    "\t\todd = odd +1 \n",
    "\t\n",
    "\ta=a+1\n",
    "\n",
    "print(even)\n",
    "print(odd)"
   ]
  },
  {
   "cell_type": "code",
   "execution_count": 30,
   "metadata": {
    "collapsed": false
   },
   "outputs": [
    {
     "name": "stdout",
     "output_type": "stream",
     "text": [
      "('These are all odd numbers', 1)\n",
      "('These are all even numbers', 2)\n",
      "('These are all odd numbers', 3)\n",
      "('These are all even numbers', 4)\n",
      "('These are all odd numbers', 5)\n",
      "('These are all even numbers', 6)\n",
      "('These are all odd numbers', 7)\n",
      "('These are all even numbers', 8)\n",
      "('These are all odd numbers', 9)\n",
      "('These are all even numbers', 10)\n"
     ]
    }
   ],
   "source": [
    "#print even and odd numbers from 1-10 using the for loop\n",
    "\n",
    "for x in range(1,11):\n",
    "\tif x%2 == 0:\n",
    "\t\tprint('These are all even numbers',x)\n",
    "\n",
    "\telse:\n",
    "\t\tprint('These are all odd numbers',x)"
   ]
  },
  {
   "cell_type": "code",
   "execution_count": 36,
   "metadata": {
    "collapsed": false
   },
   "outputs": [
    {
     "name": "stdout",
     "output_type": "stream",
     "text": [
      "5\n"
     ]
    }
   ],
   "source": [
    "#Random Range\n",
    "#Find a random number between two numbers\n",
    "\n",
    "import random\n",
    "\n",
    "a=5\n",
    "b=6\n",
    "\n",
    "if type(a) == int and type(b) == int:\n",
    "\tprint random.randrange(a,b)\n",
    "\n",
    "elif type (a) == float or type(b) == float:\n",
    "\tprint random.uniform(a,b) #Get a random number in the range [a, b) or [a, b] depending on rounding."
   ]
  },
  {
   "cell_type": "code",
   "execution_count": 37,
   "metadata": {
    "collapsed": false
   },
   "outputs": [
    {
     "name": "stdout",
     "output_type": "stream",
     "text": [
      "This number is a multiple of 5 but not divisible by 7\n"
     ]
    }
   ],
   "source": [
    "# #Question1 - WORKED WELL\n",
    "# # Write a Python program to find if a number is divisible by 7 and multiple of 5. \n",
    "a=50\n",
    "if a%7==0:\n",
    "\tprint('Yes this number is divisible by 7')\n",
    "\n",
    "elif a%5==0:\n",
    "\tprint('This number is a multiple of 5 but not divisible by 7')\n",
    "\n",
    "if a%7!=0 and a%5!=0:\n",
    "\tprint('This number is not divisble by 7 nor a multiple of 5')\n"
   ]
  },
  {
   "cell_type": "code",
   "execution_count": 38,
   "metadata": {
    "collapsed": true
   },
   "outputs": [],
   "source": [
    "# #Question2 - INCOMPLETE (Check B below)"
   ]
  },
  {
   "cell_type": "code",
   "execution_count": 41,
   "metadata": {
    "collapsed": false
   },
   "outputs": [
    {
     "name": "stdout",
     "output_type": "stream",
     "text": [
      "This number is even\n"
     ]
    }
   ],
   "source": [
    "# #Question 3: - WORKED WELL\n",
    "# Find out if a number is even or odd.\n",
    "\n",
    "a=2\n",
    "if a%2==0:\n",
    "\tprint('This number is even')\n",
    "else:\n",
    "\tprint('This number is odd')"
   ]
  },
  {
   "cell_type": "code",
   "execution_count": 43,
   "metadata": {
    "collapsed": false
   },
   "outputs": [
    {
     "name": "stdout",
     "output_type": "stream",
     "text": [
      "<type 'str'>\n",
      "<type 'str'>\n",
      "invalid number\n"
     ]
    }
   ],
   "source": [
    "# #Question 4: - WORKED WELL\n",
    "# If a number is integer, convert it to float and if the number is float, convert it to string. If it is neither integer nor float, state that it is an invalid number.\n",
    "\n",
    "a='Ham'\n",
    "b=type(a)\n",
    "print b\n",
    "\n",
    "if type(a) == int:\n",
    "\ta=float(a)\n",
    "\tprint a\n",
    "\n",
    "print type(a)\n",
    "\n",
    "if type(a) == float:\n",
    "\ta=str(a)\n",
    "\tprint a\n",
    "\tprint type(a)\n",
    "\n",
    "else:\n",
    "\tprint 'invalid number'"
   ]
  },
  {
   "cell_type": "code",
   "execution_count": 45,
   "metadata": {
    "collapsed": false
   },
   "outputs": [
    {
     "name": "stdout",
     "output_type": "stream",
     "text": [
      "valid\n"
     ]
    }
   ],
   "source": [
    "# # Question 5: - CORRECTED SOLUTION\n",
    "# Write a program to find out if the given currency note is valid or not. If the note is of 1000Rs, it is invalid. If it is of 500 Rs, check if the note is new or old. If it is new, it is valid otherwise it is invalid. (consider 2 variables. One for the value of the currency note and the other for new or old)\n",
    "\n",
    "# # Solution:\n",
    "value = 501\n",
    "status = 'new'\n",
    "if value == 1000:\n",
    "\tprint 'invalid'\n",
    "elif value == 500:\n",
    "\tif status == 'new':\n",
    "\t\tprint 'valid'\n",
    "\telse :\n",
    "\t\tprint 'invalid'\n",
    "else:\n",
    "\tprint 'valid'"
   ]
  },
  {
   "cell_type": "code",
   "execution_count": 49,
   "metadata": {
    "collapsed": false
   },
   "outputs": [
    {
     "name": "stdout",
     "output_type": "stream",
     "text": [
      "1505\n",
      "1540\n",
      "1575\n",
      "1610\n",
      "1645\n",
      "1680\n",
      "1715\n",
      "1750\n",
      "1785\n",
      "1820\n",
      "1855\n",
      "1890\n",
      "1925\n",
      "1960\n",
      "1995\n",
      "2030\n",
      "2065\n",
      "2100\n",
      "2135\n",
      "2170\n",
      "2205\n",
      "2240\n",
      "2275\n",
      "2310\n",
      "2345\n",
      "2380\n",
      "2415\n",
      "2450\n",
      "2485\n",
      "2520\n",
      "2555\n",
      "2590\n",
      "2625\n",
      "2660\n",
      "2695\n"
     ]
    }
   ],
   "source": [
    "# # Question A: WORKED WELL\n",
    "# Write a Python program to find those numbers which are divisible by 7 and multiple of 5, between 1500 and 2700 (both included).\n",
    "\n",
    "for x in range(1500,2700):\n",
    "\tif x%7==0 and x%5==0:\n",
    "\t\tprint x"
   ]
  },
  {
   "cell_type": "code",
   "execution_count": 57,
   "metadata": {
    "collapsed": false
   },
   "outputs": [
    {
     "name": "stdout",
     "output_type": "stream",
     "text": [
      "77\n"
     ]
    }
   ],
   "source": [
    "# # Question B: CORRECTED SOLUTION\n",
    "# Write a Python program to convert temperatures to and from celcius, fahrenheit [Formula : a/5 = b-32/9 [ where a = temperature in celsius and b = temperature in fahrenheit ] \n",
    "\n",
    "#Hard code temp\n",
    "a=25\n",
    "b= 'C'\n",
    "f=c=0\n",
    "if b=='C':\n",
    "\tf= ((a/5)*9)+32\n",
    "print f"
   ]
  },
  {
   "cell_type": "code",
   "execution_count": 60,
   "metadata": {
    "collapsed": false
   },
   "outputs": [
    {
     "name": "stdout",
     "output_type": "stream",
     "text": [
      "Number of even numbers : 4\n",
      "Number of odd numbers : 5\n"
     ]
    }
   ],
   "source": [
    "# # Question C:\n",
    "# Write a Python program to count the number of even and odd numbers from a series of numbers. Sample numbers : numbers = (1, 2, 3, 4, 5, 6, 7, 8, 9) Expected Output : Number of even numbers : 4 Number of odd numbers : 5\n",
    "# Expected Output : \n",
    "# Number of even numbers : 4\n",
    "# Number of odd numbers : 5\n",
    "\n",
    "numbers = (1, 2, 3, 4, 5, 6, 7, 8, 9)\n",
    "#Count the number of even and odd numbers \n",
    "\n",
    "even=0\n",
    "odd=0\n",
    "\n",
    "# for x in numbers:\n",
    "# \tif x%2==1 :\n",
    "# \t\teven +=1\n",
    "# question was wrong - NOW CORRECTED even to 4 and odd to 5 as expected output. \n",
    "\n",
    "#ELSE:\n",
    "\n",
    "for x in numbers:\n",
    "\tif x%2==0:\n",
    "\t\teven +=1\n",
    "\t\n",
    "\telif x%2==1:\n",
    "\t\todd +=1\n",
    "\n",
    "print 'Number of even numbers :', even\n",
    "print 'Number of odd numbers :', odd\n"
   ]
  },
  {
   "cell_type": "code",
   "execution_count": 62,
   "metadata": {
    "collapsed": false
   },
   "outputs": [
    {
     "name": "stdout",
     "output_type": "stream",
     "text": [
      "Welcome to Python\n",
      "Welcome to Python\n",
      "Welcome to Python\n",
      "Welcome to Python\n",
      "Welcome to Python\n",
      "Welcome to Python\n",
      "Welcome to Python\n",
      "Welcome to Python\n",
      "Welcome to Python\n",
      "Welcome to Python\n"
     ]
    }
   ],
   "source": [
    " # Question D:\n",
    "# How many times will the following code print \"Welcome to Python\"? \n",
    "\n",
    "count = 0 \n",
    "while count < 10: \n",
    "\tprint(\"Welcome to Python\")\n",
    "\tcount +=1\n",
    "#CORRECTED SOLUTION\n"
   ]
  },
  {
   "cell_type": "code",
   "execution_count": 63,
   "metadata": {
    "collapsed": false
   },
   "outputs": [
    {
     "name": "stdout",
     "output_type": "stream",
     "text": [
      "('x is', 1)\n",
      "('x is', 2)\n",
      "('x is', 3)\n",
      "('x is', 4)\n"
     ]
    }
   ],
   "source": [
    "# # Question E: \n",
    "# What is the output of the following code? \n",
    "x = 0 \n",
    "while x < 4: \n",
    "\tx += 1 \n",
    "\tprint(\"x is\", x)\n",
    "#ANSWER: It prints 4 times"
   ]
  },
  {
   "cell_type": "code",
   "execution_count": 64,
   "metadata": {
    "collapsed": false
   },
   "outputs": [
    {
     "name": "stdout",
     "output_type": "stream",
     "text": [
      "3\n",
      "0\n"
     ]
    }
   ],
   "source": [
    "# # Question F:\n",
    "# What will be displayed when the following code is executed?\n",
    "number = 6 \n",
    "while number > 0: \n",
    "\tnumber -= 3 \n",
    "\tprint(number)"
   ]
  },
  {
   "cell_type": "code",
   "execution_count": 65,
   "metadata": {
    "collapsed": false
   },
   "outputs": [
    {
     "name": "stdout",
     "output_type": "stream",
     "text": [
      "1\n",
      "2\n",
      "Fizz\n",
      "4\n",
      "Buzz\n",
      "Fizz\n",
      "7\n",
      "8\n",
      "Fizz\n",
      "Buzz\n",
      "11\n",
      "Fizz\n",
      "13\n",
      "14\n",
      "fizzbuzz\n",
      "16\n",
      "17\n",
      "Fizz\n",
      "19\n",
      "Buzz\n",
      "Fizz\n",
      "22\n",
      "23\n",
      "Fizz\n",
      "Buzz\n",
      "26\n",
      "Fizz\n",
      "28\n",
      "29\n",
      "fizzbuzz\n",
      "31\n",
      "32\n",
      "Fizz\n",
      "34\n",
      "Buzz\n",
      "Fizz\n",
      "37\n",
      "38\n",
      "Fizz\n",
      "Buzz\n",
      "41\n",
      "Fizz\n",
      "43\n",
      "44\n",
      "fizzbuzz\n",
      "46\n",
      "47\n",
      "Fizz\n",
      "49\n"
     ]
    }
   ],
   "source": [
    "# # Question G: WORKED WELL\n",
    "# Write a Python program which iterates the integers from 1 to 50. For multiples of three print \"Fizz\" instead of the number and for the multiples of five print \"Buzz\". For numbers which are multiples of both three and five print \"FizzBuzz\". Sample Output : fizzbuzz 1 2 fizz 4 buzz\n",
    "\n",
    "a=0\n",
    "for x in range(1,50):\n",
    "\tif x%3==0 and x%5==0:\n",
    "\t\tprint \"fizzbuzz\"\n",
    "\telif x%3==0:\n",
    "\t\tprint \"Fizz\"\n",
    "\telif x%5==0:\n",
    "\t\tprint 'Buzz'\n",
    "\n",
    "\telse:\n",
    "\t\tprint x"
   ]
  },
  {
   "cell_type": "code",
   "execution_count": 66,
   "metadata": {
    "collapsed": false
   },
   "outputs": [
    {
     "name": "stdout",
     "output_type": "stream",
     "text": [
      "0\n",
      "2\n"
     ]
    }
   ],
   "source": [
    "# # Question H: WORKED WELL\n",
    "# Write a Python program to calculate the sum and average of n integer numbers.\n",
    "\n",
    "#n integer\n",
    "n=[-3,-2,-1,0,1,2,3]\n",
    "a=0\n",
    "\n",
    "for x in n:\n",
    "\ta=a+x\n",
    "print a\n",
    "\n",
    "for x in n:\n",
    "\ta=((a+x)/2)\n",
    "print a"
   ]
  },
  {
   "cell_type": "code",
   "execution_count": 68,
   "metadata": {
    "collapsed": false
   },
   "outputs": [
    {
     "name": "stdout",
     "output_type": "stream",
     "text": [
      "1\n",
      "1\n",
      "2\n",
      "3\n",
      "5\n",
      "8\n",
      "13\n",
      "21\n",
      "34\n",
      "a\n"
     ]
    }
   ],
   "source": [
    "# Question I: Got solution from W3schools\n",
    "#Write a Python program to get the Fibonacci series between 0 to 50.\n",
    "x,y = 0,1\n",
    "while y<50:\n",
    "\tprint y\n",
    "\tx,y=y,x+y\n",
    "\n",
    "# Question J:\n",
    "#What will be the output for :\n",
    "x = 'abcd'\n",
    "for i in range(len(x)):\n",
    "\tx = 'a'\n",
    "print(x)\n",
    "\n",
    "#ANS: a"
   ]
  },
  {
   "cell_type": "code",
   "execution_count": null,
   "metadata": {
    "collapsed": true
   },
   "outputs": [],
   "source": []
  }
 ],
 "metadata": {
  "kernelspec": {
   "display_name": "Python 2",
   "language": "python",
   "name": "python2"
  },
  "language_info": {
   "codemirror_mode": {
    "name": "ipython",
    "version": 2
   },
   "file_extension": ".py",
   "mimetype": "text/x-python",
   "name": "python",
   "nbconvert_exporter": "python",
   "pygments_lexer": "ipython2",
   "version": "2.7.13"
  }
 },
 "nbformat": 4,
 "nbformat_minor": 2
}
