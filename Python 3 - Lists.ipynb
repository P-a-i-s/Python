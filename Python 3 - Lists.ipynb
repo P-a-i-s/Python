{
 "cells": [
  {
   "cell_type": "markdown",
   "metadata": {},
   "source": [
    "### LISTS"
   ]
  },
  {
   "cell_type": "markdown",
   "metadata": {},
   "source": [
    "The most basic data structure in Python is the sequence. Each element of a sequence is assigned a number - its position or index. The first index is zero, the second index is one, and so forth.\n",
    "\n",
    "Python has six built-in types of sequences, but the most common ones are lists and tuple.\n",
    "\n",
    "There are certain things you can do with all sequence types. These operations include indexing, slicing, adding, multiplying, and checking for membership. In addition, Python has built-in functions for finding the length of a sequence and for finding its largest and smallest elements."
   ]
  },
  {
   "cell_type": "code",
   "execution_count": 4,
   "metadata": {
    "collapsed": false,
    "scrolled": true
   },
   "outputs": [
    {
     "name": "stdout",
     "output_type": "stream",
     "text": [
      "Tue\n"
     ]
    }
   ],
   "source": [
    "d=['Mon', 'Tue', 'Wed', 'Thu', 'Fri', 'Sat','Sun']\n",
    "a= 2\n",
    "\n",
    "if a == 1:\n",
    "\tprint d[0]\n",
    "elif a== 2:\n",
    "\tprint d[1]\n",
    "elif a== 3:\n",
    "\tprint d[2]\n",
    "elif a== 4:\n",
    "\tprint d[3]\n",
    "elif a== 5:\n",
    "\tprint d[4]\n",
    "elif a== 6:\n",
    "\tprint d[5]\n",
    "elif a== 7:\n",
    "\tprint d[6]"
   ]
  },
  {
   "cell_type": "code",
   "execution_count": 5,
   "metadata": {
    "collapsed": false,
    "scrolled": false
   },
   "outputs": [
    {
     "name": "stdout",
     "output_type": "stream",
     "text": [
      "<type 'tuple'>\n",
      "3\n",
      "[1, 2, 3, 1, 2, 3]\n",
      "[1, 2, 3, 1, 2, 3]\n"
     ]
    }
   ],
   "source": [
    "# ## List with various numbers. Create a list only with the positive numbers of the list\n",
    "\n",
    "m=(-3,-2,-1,0,1,2,3)\n",
    "print type(m)\n",
    "#Count of all the positive numbers from m above\n",
    "p=[]\n",
    "for x in m:\n",
    "\tif x>0:\n",
    "\t\tp.append(x)\n",
    "print len(p)\n",
    "\n",
    "for x in m:\n",
    "\tif x>0:\n",
    "\t\tp.append(x)\n",
    "print p\n",
    "\n",
    "q=[]\n",
    "q=q+p\n",
    "print q\n"
   ]
  },
  {
   "cell_type": "markdown",
   "metadata": {},
   "source": [
    "### LIST FUNCTIONS"
   ]
  },
  {
   "cell_type": "code",
   "execution_count": 1,
   "metadata": {
    "collapsed": false
   },
   "outputs": [
    {
     "data": {
      "text/plain": [
       "[2, 32, 'abc', 5.6, 'hello']"
      ]
     },
     "execution_count": 1,
     "metadata": {},
     "output_type": "execute_result"
    }
   ],
   "source": [
    "a= [2, 32,'abc', 5.6, 'hello']\n",
    "a"
   ]
  },
  {
   "cell_type": "code",
   "execution_count": 2,
   "metadata": {
    "collapsed": false
   },
   "outputs": [
    {
     "name": "stdout",
     "output_type": "stream",
     "text": [
      "<type 'list'>\n"
     ]
    }
   ],
   "source": [
    "print type(a)"
   ]
  },
  {
   "cell_type": "code",
   "execution_count": 3,
   "metadata": {
    "collapsed": false
   },
   "outputs": [
    {
     "name": "stdout",
     "output_type": "stream",
     "text": [
      "[2, 32, 'abc']\n"
     ]
    }
   ],
   "source": [
    "print a[0:3]"
   ]
  },
  {
   "cell_type": "code",
   "execution_count": 4,
   "metadata": {
    "collapsed": false
   },
   "outputs": [
    {
     "name": "stdout",
     "output_type": "stream",
     "text": [
      "['hello', 5.6, 'abc', 32, 2]\n"
     ]
    }
   ],
   "source": [
    "print a[::-1]"
   ]
  },
  {
   "cell_type": "code",
   "execution_count": 6,
   "metadata": {
    "collapsed": false
   },
   "outputs": [
    {
     "name": "stdout",
     "output_type": "stream",
     "text": [
      "[2, 32, 'abc', 5.6, 'hello', [56, 78], 56, 78]\n",
      "[2, 32, 'abc', 5.6, 'hello', [56, 78], 2, 32, 'abc', 5.6, 'hello', [56, 78], 2, 32, 'abc', 5.6, 'hello', [56, 78]]\n",
      "[2, 32, 'abc', 5.6, 'hello', [56, 78], [56, 78]]\n"
     ]
    }
   ],
   "source": [
    "m =[56,78]\n",
    "print a+m\n",
    "print a*3\n",
    "a.append(m)\n",
    "print a\n"
   ]
  },
  {
   "cell_type": "code",
   "execution_count": 7,
   "metadata": {
    "collapsed": false
   },
   "outputs": [
    {
     "name": "stdout",
     "output_type": "stream",
     "text": [
      "[2, 32, 'abc', 5.6, 'hello', [56, 78], [56, 78], 56, 78]\n"
     ]
    }
   ],
   "source": [
    "a.extend(m)\n",
    "print a"
   ]
  },
  {
   "cell_type": "code",
   "execution_count": 8,
   "metadata": {
    "collapsed": false
   },
   "outputs": [
    {
     "name": "stdout",
     "output_type": "stream",
     "text": [
      "[2, 'abc', 32, 'abc', 5.6, 'hello', [56, 78], [56, 78], 56, 78]\n"
     ]
    }
   ],
   "source": [
    "a.insert(1, 'abc')\n",
    "print a"
   ]
  },
  {
   "cell_type": "code",
   "execution_count": null,
   "metadata": {
    "collapsed": true
   },
   "outputs": [],
   "source": [
    "help(pd.read_excel)"
   ]
  },
  {
   "cell_type": "code",
   "execution_count": null,
   "metadata": {
    "collapsed": true
   },
   "outputs": [],
   "source": []
  }
 ],
 "metadata": {
  "kernelspec": {
   "display_name": "Python 2",
   "language": "python",
   "name": "python2"
  },
  "language_info": {
   "codemirror_mode": {
    "name": "ipython",
    "version": 2
   },
   "file_extension": ".py",
   "mimetype": "text/x-python",
   "name": "python",
   "nbconvert_exporter": "python",
   "pygments_lexer": "ipython2",
   "version": "2.7.13"
  }
 },
 "nbformat": 4,
 "nbformat_minor": 2
}
